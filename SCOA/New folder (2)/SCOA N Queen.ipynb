{
 "cells": [
  {
   "cell_type": "code",
   "execution_count": 1,
   "id": "bd0a572a",
   "metadata": {},
   "outputs": [],
   "source": [
    "import random\n",
    "import copy\n",
    "import math\n",
    "import numpy as np\n",
    "import time"
   ]
  },
  {
   "cell_type": "code",
   "execution_count": 2,
   "id": "55b6d1c5",
   "metadata": {},
   "outputs": [],
   "source": [
    "cross_prob = 0\n",
    "mutation_prob = 0"
   ]
  },
  {
   "cell_type": "code",
   "execution_count": 3,
   "id": "4f1d0c70",
   "metadata": {},
   "outputs": [],
   "source": [
    "def print_board(individual, n):\n",
    "    print()\n",
    "    print('--------------N queens Board--------------')\n",
    "    print(\"i=\",individual)\n",
    "    print()\n",
    "    solution = []\n",
    "    for x in range(n): # empty board!\n",
    "        solution.append(['*'] * n)\n",
    "    for z in range(n):\n",
    "        solution[n-individual[z]][z] = 'Q'\n",
    "    for z in solution:\n",
    "        brackets_removed = str(z)[1:-1]\n",
    "        brackets_removed = brackets_removed.replace(\"'\", \" \")\n",
    "        brackets_removed = brackets_removed.replace(\",\", \"\")\n",
    "        print(brackets_removed)\n",
    "        print()\n"
   ]
  },
  {
   "cell_type": "code",
   "execution_count": 4,
   "id": "6bddf2c4",
   "metadata": {},
   "outputs": [],
   "source": [
    "def fitness(individual):\n",
    "    row_clashes = abs(len(individual) - len(np.unique(individual)))\n",
    "    diagonal_collisions = 0\n",
    "    n = len(individual)\n",
    "    left_diagonal = [0] * 2*n\n",
    "    right_diagonal = [0] * 2*n\n",
    "    for i in range(n):\n",
    "        left_diagonal[i + individual[i] - 1] += 1\n",
    "        right_diagonal[len(individual) - i + individual[i] - 2] += 1\n",
    "    diagonal_collisions = 0\n",
    "    for i in range(2*n-1):\n",
    "        counter = 0\n",
    "        if left_diagonal[i] > 1:\n",
    "            counter += left_diagonal[i]-1\n",
    "        if right_diagonal[i] > 1:\n",
    "            counter += right_diagonal[i]-1\n",
    "        diagonal_collisions += counter / (n-abs(i-n+1))\n",
    "    attack_pairs = row_clashes + diagonal_collisions\n",
    "    return attack_pairs "
   ]
  },
  {
   "cell_type": "code",
   "execution_count": 5,
   "id": "faac6cf7",
   "metadata": {},
   "outputs": [],
   "source": [
    "def crossover(individual1, individual2, prob1):\n",
    "    if prob1 < cross_prob:\n",
    "        n = len(individual1)\n",
    "        c = random.randint(0, n - 1)\n",
    "        return individual1[0:c] + individual2[c:n]\n",
    "    else:\n",
    "        return individual1"
   ]
  },
  {
   "cell_type": "code",
   "execution_count": 6,
   "id": "8674814b",
   "metadata": {},
   "outputs": [],
   "source": [
    "def mutation(individual, prob2):\n",
    "    if prob2 < mutation_prob:\n",
    "        n = len(individual)\n",
    "        c = random.randint(0, n - 1)\n",
    "        m = random.randint(1, n)\n",
    "        individual[c] = m\n",
    "        return individual\n",
    "    else:\n",
    "        return individual"
   ]
  },
  {
   "cell_type": "code",
   "execution_count": 7,
   "id": "822626da",
   "metadata": {},
   "outputs": [],
   "source": [
    "def generate_individual(n):\n",
    "    result = list(range(1, n + 1))\n",
    "    np.random.shuffle(result)\n",
    "    return result"
   ]
  },
  {
   "cell_type": "code",
   "execution_count": 8,
   "id": "fbe2a924",
   "metadata": {},
   "outputs": [],
   "source": [
    "class Genetic(object):\n",
    "    \n",
    "    def __init__(self, n, pop_size):\n",
    "        self.queens = []\n",
    "        for i in range(pop_size):\n",
    "            self.queens.append(generate_individual(n))\n",
    "    \n",
    "    def generate_population(self, random_selections=5):\n",
    "        candid_parents = []\n",
    "        candid_fitness = []\n",
    "        for i in range(random_selections):\n",
    "            candid_parents.append(self.queens[random.randint(0, len(self.queens) - 1)])\n",
    "            candid_fitness.append(fitness(candid_parents[i]))\n",
    "        test_list = []\n",
    "        for i in range(0, len(candid_parents)):\n",
    "            test_list.append([candid_fitness[i], candid_parents[i]])\n",
    "        test_list.sort()\n",
    "        x = test_list[0]\n",
    "        y = test_list[1]\n",
    "        temp1 = crossover(x[1], y[1], random.random())\n",
    "        temp2 = crossover(y[1], x[1], random.random())\n",
    "        p = mutation(temp1, random.random())\n",
    "        q = mutation(temp2, random.random())\n",
    "        if fitness(p) < x[0]:\n",
    "            if not any(list == p for list in self.queens):\n",
    "                self.queens.append(p)\n",
    "                test_list.append([fitness(p), p])\n",
    "        if fitness(q) < x[0]:\n",
    "            if not any(list == p for list in self.queens):\n",
    "                self.queens.append(q)\n",
    "                test_list.append([fitness(q), q])\n",
    "    \n",
    "    def finished(self):\n",
    "        for i in self.queens:\n",
    "            if(fitness(i) == 0):\n",
    "                return [1, i]\n",
    "        return [0, self.queens[0]]\n",
    "    \n",
    "    def start(self, random_selections=5):\n",
    "        count = 0 \n",
    "        while self.finished()[0] == 0:\n",
    "            count = count+1\n",
    "            self.generate_population(random_selections)\n",
    "        final_state = self.finished()\n",
    "        print()\n",
    "        print('populations generated:', count)\n",
    "        print()\n",
    "        print(('Solution : ' + str(final_state[1])))\n",
    "        print_board(final_state[1], n)\n",
    "    \n",
    "    \n"
   ]
  },
  {
   "cell_type": "code",
   "execution_count": 9,
   "id": "8e52d788",
   "metadata": {},
   "outputs": [
    {
     "ename": "KeyboardInterrupt",
     "evalue": "Interrupted by user",
     "output_type": "error",
     "traceback": [
      "\u001b[1;31m---------------------------------------------------------------------------\u001b[0m",
      "\u001b[1;31mKeyboardInterrupt\u001b[0m                         Traceback (most recent call last)",
      "Input \u001b[1;32mIn [9]\u001b[0m, in \u001b[0;36m<cell line: 2>\u001b[1;34m()\u001b[0m\n\u001b[0;32m      1\u001b[0m \u001b[38;5;66;03m# ******************** N-Queen Problem With GA Algorithm ***********************\u001b[39;00m\n\u001b[1;32m----> 2\u001b[0m n \u001b[38;5;241m=\u001b[39m (\u001b[38;5;28mint\u001b[39m)(\u001b[38;5;28;43minput\u001b[39;49m\u001b[43m(\u001b[49m\u001b[38;5;124;43m'\u001b[39;49m\u001b[38;5;124;43mEnter the value of N : \u001b[39;49m\u001b[38;5;124;43m'\u001b[39;49m\u001b[43m)\u001b[49m)\n\u001b[0;32m      3\u001b[0m max_pairs \u001b[38;5;241m=\u001b[39m (n\u001b[38;5;241m*\u001b[39m(n\u001b[38;5;241m-\u001b[39m\u001b[38;5;241m1\u001b[39m))\u001b[38;5;241m/\u001b[39m\u001b[38;5;241m2\u001b[39m \n\u001b[0;32m      4\u001b[0m initial_population \u001b[38;5;241m=\u001b[39m (\u001b[38;5;28mint\u001b[39m)(\u001b[38;5;28minput\u001b[39m(\u001b[38;5;124m'\u001b[39m\u001b[38;5;124mEnter initial population size : \u001b[39m\u001b[38;5;124m'\u001b[39m))\n",
      "File \u001b[1;32m~\\AppData\\Local\\Programs\\Python\\Python310\\lib\\site-packages\\ipykernel\\kernelbase.py:1076\u001b[0m, in \u001b[0;36mKernel.raw_input\u001b[1;34m(self, prompt)\u001b[0m\n\u001b[0;32m   1072\u001b[0m \u001b[38;5;28;01mif\u001b[39;00m \u001b[38;5;129;01mnot\u001b[39;00m \u001b[38;5;28mself\u001b[39m\u001b[38;5;241m.\u001b[39m_allow_stdin:\n\u001b[0;32m   1073\u001b[0m     \u001b[38;5;28;01mraise\u001b[39;00m StdinNotImplementedError(\n\u001b[0;32m   1074\u001b[0m         \u001b[38;5;124m\"\u001b[39m\u001b[38;5;124mraw_input was called, but this frontend does not support input requests.\u001b[39m\u001b[38;5;124m\"\u001b[39m\n\u001b[0;32m   1075\u001b[0m     )\n\u001b[1;32m-> 1076\u001b[0m \u001b[38;5;28;01mreturn\u001b[39;00m \u001b[38;5;28;43mself\u001b[39;49m\u001b[38;5;241;43m.\u001b[39;49m\u001b[43m_input_request\u001b[49m\u001b[43m(\u001b[49m\n\u001b[0;32m   1077\u001b[0m \u001b[43m    \u001b[49m\u001b[38;5;28;43mstr\u001b[39;49m\u001b[43m(\u001b[49m\u001b[43mprompt\u001b[49m\u001b[43m)\u001b[49m\u001b[43m,\u001b[49m\n\u001b[0;32m   1078\u001b[0m \u001b[43m    \u001b[49m\u001b[38;5;28;43mself\u001b[39;49m\u001b[38;5;241;43m.\u001b[39;49m\u001b[43m_parent_ident\u001b[49m\u001b[43m[\u001b[49m\u001b[38;5;124;43m\"\u001b[39;49m\u001b[38;5;124;43mshell\u001b[39;49m\u001b[38;5;124;43m\"\u001b[39;49m\u001b[43m]\u001b[49m\u001b[43m,\u001b[49m\n\u001b[0;32m   1079\u001b[0m \u001b[43m    \u001b[49m\u001b[38;5;28;43mself\u001b[39;49m\u001b[38;5;241;43m.\u001b[39;49m\u001b[43mget_parent\u001b[49m\u001b[43m(\u001b[49m\u001b[38;5;124;43m\"\u001b[39;49m\u001b[38;5;124;43mshell\u001b[39;49m\u001b[38;5;124;43m\"\u001b[39;49m\u001b[43m)\u001b[49m\u001b[43m,\u001b[49m\n\u001b[0;32m   1080\u001b[0m \u001b[43m    \u001b[49m\u001b[43mpassword\u001b[49m\u001b[38;5;241;43m=\u001b[39;49m\u001b[38;5;28;43;01mFalse\u001b[39;49;00m\u001b[43m,\u001b[49m\n\u001b[0;32m   1081\u001b[0m \u001b[43m\u001b[49m\u001b[43m)\u001b[49m\n",
      "File \u001b[1;32m~\\AppData\\Local\\Programs\\Python\\Python310\\lib\\site-packages\\ipykernel\\kernelbase.py:1121\u001b[0m, in \u001b[0;36mKernel._input_request\u001b[1;34m(self, prompt, ident, parent, password)\u001b[0m\n\u001b[0;32m   1118\u001b[0m             \u001b[38;5;28;01mbreak\u001b[39;00m\n\u001b[0;32m   1119\u001b[0m \u001b[38;5;28;01mexcept\u001b[39;00m \u001b[38;5;167;01mKeyboardInterrupt\u001b[39;00m:\n\u001b[0;32m   1120\u001b[0m     \u001b[38;5;66;03m# re-raise KeyboardInterrupt, to truncate traceback\u001b[39;00m\n\u001b[1;32m-> 1121\u001b[0m     \u001b[38;5;28;01mraise\u001b[39;00m \u001b[38;5;167;01mKeyboardInterrupt\u001b[39;00m(\u001b[38;5;124m\"\u001b[39m\u001b[38;5;124mInterrupted by user\u001b[39m\u001b[38;5;124m\"\u001b[39m) \u001b[38;5;28;01mfrom\u001b[39;00m \u001b[38;5;28mNone\u001b[39m\n\u001b[0;32m   1122\u001b[0m \u001b[38;5;28;01mexcept\u001b[39;00m \u001b[38;5;167;01mException\u001b[39;00m:\n\u001b[0;32m   1123\u001b[0m     \u001b[38;5;28mself\u001b[39m\u001b[38;5;241m.\u001b[39mlog\u001b[38;5;241m.\u001b[39mwarning(\u001b[38;5;124m\"\u001b[39m\u001b[38;5;124mInvalid Message:\u001b[39m\u001b[38;5;124m\"\u001b[39m, exc_info\u001b[38;5;241m=\u001b[39m\u001b[38;5;28;01mTrue\u001b[39;00m)\n",
      "\u001b[1;31mKeyboardInterrupt\u001b[0m: Interrupted by user"
     ]
    }
   ],
   "source": [
    "# ******************** N-Queen Problem With GA Algorithm ***********************\n",
    "n = (int)(input('Enter the value of N : '))\n",
    "max_pairs = (n*(n-1))/2 \n",
    "initial_population = (int)(input('Enter initial population size : '))\n",
    "cross_prob = (float)(input('Enter crossover probablity:'))\n",
    "mutation_prob = (float)(input('Enter mutation probablity:'))\n",
    "begin_timer = time.time()\n",
    "algorithm = Genetic(n=n, pop_size=initial_population)\n",
    "algorithm.start()\n",
    "print('Time Taken in seconds: ', time.time() - begin_timer)"
   ]
  },
  {
   "cell_type": "code",
   "execution_count": null,
   "id": "5c45151c",
   "metadata": {},
   "outputs": [],
   "source": []
  }
 ],
 "metadata": {
  "kernelspec": {
   "display_name": "Python 3 (ipykernel)",
   "language": "python",
   "name": "python3"
  },
  "language_info": {
   "codemirror_mode": {
    "name": "ipython",
    "version": 3
   },
   "file_extension": ".py",
   "mimetype": "text/x-python",
   "name": "python",
   "nbconvert_exporter": "python",
   "pygments_lexer": "ipython3",
   "version": "3.10.4"
  }
 },
 "nbformat": 4,
 "nbformat_minor": 5
}
